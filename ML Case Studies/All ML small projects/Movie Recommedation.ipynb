{
 "cells": [
  {
   "cell_type": "code",
   "execution_count": 1,
   "metadata": {},
   "outputs": [],
   "source": [
    "import numpy as np\n",
    "from lightfm.datasets import fetch_movielens\n",
    "from lightfm import LightFM"
   ]
  },
  {
   "cell_type": "code",
   "execution_count": 2,
   "metadata": {},
   "outputs": [],
   "source": [
    "#fetch Data and Format it\n",
    "data =  fetch_movielens(min_rating=4.0)"
   ]
  },
  {
   "cell_type": "code",
   "execution_count": 3,
   "metadata": {},
   "outputs": [
    {
     "name": "stdout",
     "output_type": "stream",
     "text": [
      "<943x1682 sparse matrix of type '<class 'numpy.int32'>'\n",
      "\twith 49906 stored elements in COOrdinate format>\n",
      "<943x1682 sparse matrix of type '<class 'numpy.int32'>'\n",
      "\twith 5469 stored elements in COOrdinate format>\n"
     ]
    }
   ],
   "source": [
    "#print training and testing data\n",
    "print(repr(data['train']))\n",
    "print(repr(data['test']))\n"
   ]
  },
  {
   "cell_type": "code",
   "execution_count": 4,
   "metadata": {},
   "outputs": [],
   "source": [
    "#create model\n",
    "model = LightFM(loss='warp')"
   ]
  },
  {
   "cell_type": "code",
   "execution_count": 5,
   "metadata": {},
   "outputs": [
    {
     "data": {
      "text/plain": [
       "<lightfm.lightfm.LightFM at 0x1f7fd31cb00>"
      ]
     },
     "execution_count": 5,
     "metadata": {},
     "output_type": "execute_result"
    }
   ],
   "source": [
    "#train model\n",
    "model.fit(data['train'],epochs=30,num_threads=2)"
   ]
  },
  {
   "cell_type": "code",
   "execution_count": 8,
   "metadata": {},
   "outputs": [
    {
     "name": "stdout",
     "output_type": "stream",
     "text": [
      "User 3\n",
      "  known positives:\n",
      "  Air Force One (1997)\n",
      "  Seven Years in Tibet (1997)\n",
      "  Devil's Advocate, The (1997)\n",
      "User 25\n",
      "  known positives:\n",
      "  Contact (1997)\n",
      "  Fargo (1996)\n",
      "  English Patient, The (1996)\n",
      "User 450\n",
      "  known positives:\n",
      "  Spawn (1997)\n",
      "  Saint, The (1997)\n",
      "  Peacemaker, The (1997)\n"
     ]
    }
   ],
   "source": [
    "def sample_recomendation(model,data,user_ids):\n",
    "    #number of users and training data\n",
    "    n_users,n_items = data['train'].shape\n",
    "    \n",
    "    #generate recommendations for each user we input\n",
    "    for user_id in user_ids:\n",
    "        \n",
    "        #movies already like\n",
    "        known_positive = data['item_labels'][data['train'].tocsr()[user_id].indices]\n",
    "        \n",
    "        score = model.predict(user_id,np.arange(n_items))\n",
    "        \n",
    "        top_items = data['item_labels'][np.argsort(-score)]\n",
    "        \n",
    "        \n",
    "        print('User %s'%user_id)\n",
    "        print(\"  known positives:\")\n",
    "        \n",
    "        \n",
    "        for x in top_items[:3]:\n",
    "            print(\"  %s\"%x)\n",
    "            \n",
    "sample_recomendation(model,data,[3,25,450])            \n",
    "        "
   ]
  },
  {
   "cell_type": "code",
   "execution_count": null,
   "metadata": {},
   "outputs": [],
   "source": []
  }
 ],
 "metadata": {
  "kernelspec": {
   "display_name": "Python 3",
   "language": "python",
   "name": "python3"
  },
  "language_info": {
   "codemirror_mode": {
    "name": "ipython",
    "version": 3
   },
   "file_extension": ".py",
   "mimetype": "text/x-python",
   "name": "python",
   "nbconvert_exporter": "python",
   "pygments_lexer": "ipython3",
   "version": "3.6.5"
  }
 },
 "nbformat": 4,
 "nbformat_minor": 2
}
