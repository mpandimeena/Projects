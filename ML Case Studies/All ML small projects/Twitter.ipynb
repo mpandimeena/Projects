{
 "cells": [
  {
   "cell_type": "code",
   "execution_count": 1,
   "metadata": {},
   "outputs": [],
   "source": [
    "from textblob import TextBlob\n"
   ]
  },
  {
   "cell_type": "code",
   "execution_count": 2,
   "metadata": {},
   "outputs": [],
   "source": [
    "wiki = TextBlob(\"Harshit is angry that he never gets good matches in Tinder\")"
   ]
  },
  {
   "cell_type": "code",
   "execution_count": 3,
   "metadata": {},
   "outputs": [
    {
     "data": {
      "text/plain": [
       "[('Harshit', 'NNP'),\n",
       " ('is', 'VBZ'),\n",
       " ('angry', 'JJ'),\n",
       " ('that', 'IN'),\n",
       " ('he', 'PRP'),\n",
       " ('never', 'RB'),\n",
       " ('gets', 'VBZ'),\n",
       " ('good', 'JJ'),\n",
       " ('matches', 'NNS'),\n",
       " ('in', 'IN'),\n",
       " ('Tinder', 'NN')]"
      ]
     },
     "execution_count": 3,
     "metadata": {},
     "output_type": "execute_result"
    }
   ],
   "source": [
    "wiki.tags\n"
   ]
  },
  {
   "cell_type": "code",
   "execution_count": 4,
   "metadata": {},
   "outputs": [
    {
     "data": {
      "text/plain": [
       "WordList(['Harshit', 'is', 'angry', 'that', 'he', 'never', 'gets', 'good', 'matches', 'in', 'Tinder'])"
      ]
     },
     "execution_count": 4,
     "metadata": {},
     "output_type": "execute_result"
    }
   ],
   "source": [
    "wiki.words"
   ]
  },
  {
   "cell_type": "code",
   "execution_count": 5,
   "metadata": {},
   "outputs": [
    {
     "data": {
      "text/plain": [
       "0.09999999999999998"
      ]
     },
     "execution_count": 5,
     "metadata": {},
     "output_type": "execute_result"
    }
   ],
   "source": [
    "wiki.sentiment.polarity"
   ]
  },
  {
   "cell_type": "markdown",
   "metadata": {},
   "source": [
    "# Main Program"
   ]
  },
  {
   "cell_type": "code",
   "execution_count": 6,
   "metadata": {},
   "outputs": [],
   "source": [
    "import tweepy\n",
    "from textblob import TextBlob"
   ]
  },
  {
   "cell_type": "code",
   "execution_count": 7,
   "metadata": {},
   "outputs": [],
   "source": [
    "consumer_key = 'W4OX7Lj0biSvvP3xs9haAxC2v'\n",
    "consumer_secret = 'soKpGWehBNNFfwBXdFIWG96aNNUdyNuiKl9b9RxFZXtGmla3MU'\n",
    "\n",
    "access_token = '1016748418180505600-NNut4G9mSh2768yocwyb5xm4s5OTdE'\n",
    "access_token_secret = 'Cza06MlOVGz2OYxnRsP6jnVFgseeXgeDmE126GXkUoWoO'\n"
   ]
  },
  {
   "cell_type": "code",
   "execution_count": 8,
   "metadata": {},
   "outputs": [],
   "source": [
    "auth = tweepy.OAuthHandler(consumer_key,consumer_secret)"
   ]
  },
  {
   "cell_type": "code",
   "execution_count": 9,
   "metadata": {},
   "outputs": [],
   "source": [
    "auth.set_access_token(access_token,access_token_secret)"
   ]
  },
  {
   "cell_type": "code",
   "execution_count": 10,
   "metadata": {},
   "outputs": [],
   "source": [
    "api = tweepy.API(auth)"
   ]
  },
  {
   "cell_type": "code",
   "execution_count": 11,
   "metadata": {},
   "outputs": [
    {
     "name": "stdout",
     "output_type": "stream",
     "text": [
      "Enter the tweet name to searchTrump\n",
      "RT @cnni: US President Trump's lawyer, Rudy Giuliani, substantially weakened his case against Michael Cohen by going back and forth as to w…\n",
      "Sentiment(polarity=0.0, subjectivity=0.0)\n",
      "RT @ajplusespanol: Según informes, el hombre que destruyó la estrella de Hollywood de Trump (identificado como Austin Clay) salió bajo fian…\n",
      "Sentiment(polarity=0.0, subjectivity=0.0)\n",
      "RT @hardball: Ken Dilanian reports that \"Nineteen months into his presidency, there is no coherent Trump administration strategy to combat…\n",
      "Sentiment(polarity=-0.25, subjectivity=0.7)\n",
      "RT @ScottPresler: President Trump's Economy:\n",
      "\n",
      "✔️4.1% GDP\n",
      "✔️3.4 Million new jobs\n",
      "✔️Skyrocketing DOW\n",
      "✔️Lowest black unemployment in history…\n",
      "Sentiment(polarity=-0.015151515151515152, subjectivity=0.44393939393939397)\n",
      "RT @thehill: Trump Jr. claims GDP growth never hit 2 percent under Obama — it did 15 times https://t.co/3HZJNWv9W5 https://t.co/T9udv8YSDI\n",
      "Sentiment(polarity=0.0, subjectivity=0.0)\n",
      "RT @TheRickWilson: My God have mercy on the architects of this goddamned horror, because I certainly never will.\n",
      "\n",
      "Remember, this was done b…\n",
      "Sentiment(polarity=-0.10714285714285714, subjectivity=0.5714285714285714)\n",
      "RT @KenDilanianNBC: In a statement, the White House says it put in motion a \"whole of government strategy\" to fight foreign election interv…\n",
      "Sentiment(polarity=0.025000000000000005, subjectivity=0.17500000000000002)\n",
      "RT @CBSNews: GDP growth touted as “historic” by President Trump is anything but https://t.co/rX1DxxsFdK https://t.co/qxxWR79lY1\n",
      "Sentiment(polarity=0.0, subjectivity=0.0)\n",
      "RT @54YoThoughts: Putin decides not to retaliate after sanctions to not disturb the Trump US alliance they are planning...he said this hims…\n",
      "Sentiment(polarity=0.0, subjectivity=0.0)\n",
      "RT @4YrsToday: Do you want the Trump presidency to end right now?\n",
      "Sentiment(polarity=0.2857142857142857, subjectivity=0.5357142857142857)\n",
      "@realDonaldTrump “Fake news” in Trump’s lexicon means news that does not like. It has nothing to do with being untr… https://t.co/PFfmKvfLr4\n",
      "Sentiment(polarity=-0.5, subjectivity=1.0)\n",
      "RT @FoxNews: .@newtgingrich: Trump’s GDP achieves Mission Impossible (and shocks his critics). https://t.co/PXyGRzwfow (via @FoxNewsOpinion)\n",
      "Sentiment(polarity=-0.6666666666666666, subjectivity=1.0)\n",
      "RT @lizBeth_Hineni: Oh that #FridayFeeling ❤\n",
      "               🇺🇸 ❤ 🇺🇸\n",
      "☑Blessed beyond meassure\n",
      "☑Trump is President\n",
      "☑Best country in the world…\n",
      "Sentiment(polarity=0.0, subjectivity=0.0)\n",
      "RT @MediasetTgcom24: New York, sospetto ordigno rinvenuto alla Trump Tower #newyork https://t.co/0o0aJtp7W7 https://t.co/Lg2nacfBV2\n",
      "Sentiment(polarity=0.13636363636363635, subjectivity=0.45454545454545453)\n",
      "RT @RyanAFournier: When did the Russians interfere in our election? 2016\n",
      "\n",
      "Who was President? Obama\n",
      "\n",
      "Who was head of the CIA? John Brennan…\n",
      "Sentiment(polarity=0.0, subjectivity=0.0)\n"
     ]
    }
   ],
   "source": [
    "name=input('Enter the tweet name to search')\n",
    "\n",
    "public_tweets = api.search(name) \n",
    "\n",
    "for tweet in public_tweets:\n",
    "    print(tweet.text)\n",
    "    analysis = TextBlob(tweet.text)\n",
    "    print(analysis.sentiment)"
   ]
  },
  {
   "cell_type": "code",
   "execution_count": null,
   "metadata": {},
   "outputs": [],
   "source": []
  }
 ],
 "metadata": {
  "kernelspec": {
   "display_name": "Python 3",
   "language": "python",
   "name": "python3"
  },
  "language_info": {
   "codemirror_mode": {
    "name": "ipython",
    "version": 3
   },
   "file_extension": ".py",
   "mimetype": "text/x-python",
   "name": "python",
   "nbconvert_exporter": "python",
   "pygments_lexer": "ipython3",
   "version": "3.6.5"
  }
 },
 "nbformat": 4,
 "nbformat_minor": 2
}
